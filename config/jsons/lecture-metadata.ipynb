{
 "cells": [
  {
   "cell_type": "code",
   "execution_count": 1,
   "metadata": {},
   "outputs": [],
   "source": [
    "import json"
   ]
  },
  {
   "cell_type": "code",
   "execution_count": 6,
   "metadata": {},
   "outputs": [],
   "source": [
    "lecture_dates = [\n",
    "    '17 January 2023', \n",
    "    '19 January 2023',  \n",
    "    '24 January 2023',   \n",
    "    '26 January 2023',\n",
    "    '31 January 2023',     \n",
    "    '02 February 2023',    \n",
    "    '07 February 2023',     \n",
    "    '09 February 2023',\n",
    "    '14 February 2023',     \n",
    "    '16 February 2023',   \n",
    "    '21 February 2023',\n",
    "    '23 February 2023',\n",
    "    '28 February 2023',      \n",
    "    '02 March 2023',         \n",
    "    '07 March 2023',                 \n",
    "    '09 March 2023',                 \n",
    "    '16 March 2023' ,\n",
    "    '21 March 2023',  \n",
    "    '23 March 2023',   \n",
    "    '04 April 2023',     \n",
    "    '06 April 2023',\n",
    "    '11 April 2023',       \n",
    "    '13 April 2023',\n",
    "    '18 April 2023',\n",
    "    '20 April 2023',\n",
    "    '25 April 2023'\n",
    "]\n",
    "i=1\n",
    "for date in lecture_dates:\n",
    "    lecture_metadata = {\n",
    "        \"date\": date,\n",
    "        \"lecture_number\": f\"LEC-{i:03d}\",\n",
    "        \"course\": \"EE16B\",\n",
    "        \"semester\": \"Spring 2023\"\n",
    "    }\n",
    "    filename = f\"lecture{i}.json\"\n",
    "    i=i+1\n",
    "    with open(filename, \"w\") as f:\n",
    "        json.dump(lecture_metadata, f)"
   ]
  },
  {
   "cell_type": "code",
   "execution_count": null,
   "metadata": {},
   "outputs": [],
   "source": []
  }
 ],
 "metadata": {
  "kernelspec": {
   "display_name": "Python 3",
   "language": "python",
   "name": "python3"
  },
  "language_info": {
   "codemirror_mode": {
    "name": "ipython",
    "version": 3
   },
   "file_extension": ".py",
   "mimetype": "text/x-python",
   "name": "python",
   "nbconvert_exporter": "python",
   "pygments_lexer": "ipython3",
   "version": "3.11.1"
  },
  "orig_nbformat": 4
 },
 "nbformat": 4,
 "nbformat_minor": 2
}
