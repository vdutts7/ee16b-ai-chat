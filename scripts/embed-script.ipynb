{
 "cells": [
  {
   "cell_type": "code",
   "execution_count": 9,
   "metadata": {},
   "outputs": [
    {
     "name": "stdout",
     "output_type": "stream",
     "text": [
      "Requirement already satisfied: supabase in /Library/Frameworks/Python.framework/Versions/3.11/lib/python3.11/site-packages (1.0.3)\n",
      "Requirement already satisfied: gotrue<2.0.0,>=1.0.1 in /Library/Frameworks/Python.framework/Versions/3.11/lib/python3.11/site-packages (from supabase) (1.0.2)\n",
      "Requirement already satisfied: httpx<0.24.0,>=0.23.0 in /Library/Frameworks/Python.framework/Versions/3.11/lib/python3.11/site-packages (from supabase) (0.23.3)\n",
      "Requirement already satisfied: postgrest<0.11.0,>=0.10.6 in /Library/Frameworks/Python.framework/Versions/3.11/lib/python3.11/site-packages (from supabase) (0.10.6)\n",
      "Requirement already satisfied: python-semantic-release==7.33.2 in /Library/Frameworks/Python.framework/Versions/3.11/lib/python3.11/site-packages (from supabase) (7.33.2)\n",
      "Requirement already satisfied: realtime<2.0.0,>=1.0.0 in /Library/Frameworks/Python.framework/Versions/3.11/lib/python3.11/site-packages (from supabase) (1.0.0)\n",
      "Requirement already satisfied: storage3<0.6.0,>=0.5.2 in /Library/Frameworks/Python.framework/Versions/3.11/lib/python3.11/site-packages (from supabase) (0.5.2)\n",
      "Requirement already satisfied: supafunc<0.3.0,>=0.2.2 in /Library/Frameworks/Python.framework/Versions/3.11/lib/python3.11/site-packages (from supabase) (0.2.2)\n",
      "Requirement already satisfied: click<9,>=7 in /Library/Frameworks/Python.framework/Versions/3.11/lib/python3.11/site-packages (from python-semantic-release==7.33.2->supabase) (8.1.3)\n",
      "Requirement already satisfied: click-log<1,>=0.3 in /Library/Frameworks/Python.framework/Versions/3.11/lib/python3.11/site-packages (from python-semantic-release==7.33.2->supabase) (0.4.0)\n",
      "Requirement already satisfied: gitpython<4,>=3.0.8 in /Library/Frameworks/Python.framework/Versions/3.11/lib/python3.11/site-packages (from python-semantic-release==7.33.2->supabase) (3.1.31)\n",
      "Requirement already satisfied: invoke<2,>=1.4.1 in /Library/Frameworks/Python.framework/Versions/3.11/lib/python3.11/site-packages (from python-semantic-release==7.33.2->supabase) (1.7.3)\n",
      "Requirement already satisfied: semver<3,>=2.10 in /Library/Frameworks/Python.framework/Versions/3.11/lib/python3.11/site-packages (from python-semantic-release==7.33.2->supabase) (2.13.0)\n",
      "Requirement already satisfied: twine<4,>=3 in /Library/Frameworks/Python.framework/Versions/3.11/lib/python3.11/site-packages (from python-semantic-release==7.33.2->supabase) (3.8.0)\n",
      "Requirement already satisfied: requests<3,>=2.25 in /Library/Frameworks/Python.framework/Versions/3.11/lib/python3.11/site-packages (from python-semantic-release==7.33.2->supabase) (2.31.0)\n",
      "Requirement already satisfied: wheel in /Library/Frameworks/Python.framework/Versions/3.11/lib/python3.11/site-packages (from python-semantic-release==7.33.2->supabase) (0.38.4)\n",
      "Requirement already satisfied: python-gitlab<4,>=2 in /Library/Frameworks/Python.framework/Versions/3.11/lib/python3.11/site-packages (from python-semantic-release==7.33.2->supabase) (3.14.0)\n",
      "Requirement already satisfied: tomlkit~=0.10 in /Library/Frameworks/Python.framework/Versions/3.11/lib/python3.11/site-packages (from python-semantic-release==7.33.2->supabase) (0.11.8)\n",
      "Requirement already satisfied: dotty-dict<2,>=1.3.0 in /Library/Frameworks/Python.framework/Versions/3.11/lib/python3.11/site-packages (from python-semantic-release==7.33.2->supabase) (1.3.1)\n",
      "Requirement already satisfied: packaging in /Users/vdutts7/Library/Python/3.11/lib/python/site-packages (from python-semantic-release==7.33.2->supabase) (23.1)\n",
      "Requirement already satisfied: pydantic<2.0.0,>=1.10.0 in /Library/Frameworks/Python.framework/Versions/3.11/lib/python3.11/site-packages (from gotrue<2.0.0,>=1.0.1->supabase) (1.10.8)\n",
      "Requirement already satisfied: certifi in /Library/Frameworks/Python.framework/Versions/3.11/lib/python3.11/site-packages (from httpx<0.24.0,>=0.23.0->supabase) (2022.12.7)\n",
      "Requirement already satisfied: httpcore<0.17.0,>=0.15.0 in /Library/Frameworks/Python.framework/Versions/3.11/lib/python3.11/site-packages (from httpx<0.24.0,>=0.23.0->supabase) (0.16.3)\n",
      "Requirement already satisfied: rfc3986[idna2008]<2,>=1.3 in /Library/Frameworks/Python.framework/Versions/3.11/lib/python3.11/site-packages (from httpx<0.24.0,>=0.23.0->supabase) (1.5.0)\n",
      "Requirement already satisfied: sniffio in /Library/Frameworks/Python.framework/Versions/3.11/lib/python3.11/site-packages (from httpx<0.24.0,>=0.23.0->supabase) (1.3.0)\n",
      "Requirement already satisfied: deprecation<3.0.0,>=2.1.0 in /Library/Frameworks/Python.framework/Versions/3.11/lib/python3.11/site-packages (from postgrest<0.11.0,>=0.10.6->supabase) (2.1.0)\n",
      "Requirement already satisfied: strenum<0.5.0,>=0.4.9 in /Library/Frameworks/Python.framework/Versions/3.11/lib/python3.11/site-packages (from postgrest<0.11.0,>=0.10.6->supabase) (0.4.10)\n",
      "Requirement already satisfied: python-dateutil<3.0.0,>=2.8.1 in /Users/vdutts7/Library/Python/3.11/lib/python/site-packages (from realtime<2.0.0,>=1.0.0->supabase) (2.8.2)\n",
      "Requirement already satisfied: typing-extensions<5.0.0,>=4.2.0 in /Library/Frameworks/Python.framework/Versions/3.11/lib/python3.11/site-packages (from realtime<2.0.0,>=1.0.0->supabase) (4.6.3)\n",
      "Requirement already satisfied: websockets<11.0,>=10.3 in /Library/Frameworks/Python.framework/Versions/3.11/lib/python3.11/site-packages (from realtime<2.0.0,>=1.0.0->supabase) (10.4)\n",
      "Requirement already satisfied: gitdb<5,>=4.0.1 in /Library/Frameworks/Python.framework/Versions/3.11/lib/python3.11/site-packages (from gitpython<4,>=3.0.8->python-semantic-release==7.33.2->supabase) (4.0.10)\n",
      "Requirement already satisfied: h11<0.15,>=0.13 in /Library/Frameworks/Python.framework/Versions/3.11/lib/python3.11/site-packages (from httpcore<0.17.0,>=0.15.0->httpx<0.24.0,>=0.23.0->supabase) (0.14.0)\n",
      "Requirement already satisfied: anyio<5.0,>=3.0 in /Library/Frameworks/Python.framework/Versions/3.11/lib/python3.11/site-packages (from httpcore<0.17.0,>=0.15.0->httpx<0.24.0,>=0.23.0->supabase) (3.7.0)\n",
      "Requirement already satisfied: six>=1.5 in /Users/vdutts7/Library/Python/3.11/lib/python/site-packages (from python-dateutil<3.0.0,>=2.8.1->realtime<2.0.0,>=1.0.0->supabase) (1.16.0)\n",
      "Requirement already satisfied: requests-toolbelt>=0.10.1 in /Library/Frameworks/Python.framework/Versions/3.11/lib/python3.11/site-packages (from python-gitlab<4,>=2->python-semantic-release==7.33.2->supabase) (1.0.0)\n",
      "Requirement already satisfied: charset-normalizer<4,>=2 in /Library/Frameworks/Python.framework/Versions/3.11/lib/python3.11/site-packages (from requests<3,>=2.25->python-semantic-release==7.33.2->supabase) (3.1.0)\n",
      "Requirement already satisfied: idna<4,>=2.5 in /Library/Frameworks/Python.framework/Versions/3.11/lib/python3.11/site-packages (from requests<3,>=2.25->python-semantic-release==7.33.2->supabase) (3.4)\n",
      "Requirement already satisfied: urllib3<3,>=1.21.1 in /Library/Frameworks/Python.framework/Versions/3.11/lib/python3.11/site-packages (from requests<3,>=2.25->python-semantic-release==7.33.2->supabase) (2.0.2)\n",
      "Requirement already satisfied: pkginfo>=1.8.1 in /Library/Frameworks/Python.framework/Versions/3.11/lib/python3.11/site-packages (from twine<4,>=3->python-semantic-release==7.33.2->supabase) (1.9.6)\n",
      "Requirement already satisfied: readme-renderer>=21.0 in /Library/Frameworks/Python.framework/Versions/3.11/lib/python3.11/site-packages (from twine<4,>=3->python-semantic-release==7.33.2->supabase) (37.3)\n",
      "Requirement already satisfied: tqdm>=4.14 in /Library/Frameworks/Python.framework/Versions/3.11/lib/python3.11/site-packages (from twine<4,>=3->python-semantic-release==7.33.2->supabase) (4.65.0)\n",
      "Requirement already satisfied: importlib-metadata>=3.6 in /Library/Frameworks/Python.framework/Versions/3.11/lib/python3.11/site-packages (from twine<4,>=3->python-semantic-release==7.33.2->supabase) (6.6.0)\n",
      "Requirement already satisfied: keyring>=15.1 in /Library/Frameworks/Python.framework/Versions/3.11/lib/python3.11/site-packages (from twine<4,>=3->python-semantic-release==7.33.2->supabase) (23.13.1)\n",
      "Requirement already satisfied: colorama>=0.4.3 in /Library/Frameworks/Python.framework/Versions/3.11/lib/python3.11/site-packages (from twine<4,>=3->python-semantic-release==7.33.2->supabase) (0.4.6)\n",
      "Requirement already satisfied: smmap<6,>=3.0.1 in /Library/Frameworks/Python.framework/Versions/3.11/lib/python3.11/site-packages (from gitdb<5,>=4.0.1->gitpython<4,>=3.0.8->python-semantic-release==7.33.2->supabase) (5.0.0)\n",
      "Requirement already satisfied: zipp>=0.5 in /Library/Frameworks/Python.framework/Versions/3.11/lib/python3.11/site-packages (from importlib-metadata>=3.6->twine<4,>=3->python-semantic-release==7.33.2->supabase) (3.15.0)\n",
      "Requirement already satisfied: jaraco.classes in /Library/Frameworks/Python.framework/Versions/3.11/lib/python3.11/site-packages (from keyring>=15.1->twine<4,>=3->python-semantic-release==7.33.2->supabase) (3.2.3)\n",
      "Requirement already satisfied: bleach>=2.1.0 in /Library/Frameworks/Python.framework/Versions/3.11/lib/python3.11/site-packages (from readme-renderer>=21.0->twine<4,>=3->python-semantic-release==7.33.2->supabase) (6.0.0)\n",
      "Requirement already satisfied: docutils>=0.13.1 in /Library/Frameworks/Python.framework/Versions/3.11/lib/python3.11/site-packages (from readme-renderer>=21.0->twine<4,>=3->python-semantic-release==7.33.2->supabase) (0.20.1)\n",
      "Requirement already satisfied: Pygments>=2.5.1 in /Users/vdutts7/Library/Python/3.11/lib/python/site-packages (from readme-renderer>=21.0->twine<4,>=3->python-semantic-release==7.33.2->supabase) (2.15.1)\n",
      "Requirement already satisfied: webencodings in /Library/Frameworks/Python.framework/Versions/3.11/lib/python3.11/site-packages (from bleach>=2.1.0->readme-renderer>=21.0->twine<4,>=3->python-semantic-release==7.33.2->supabase) (0.5.1)\n",
      "Requirement already satisfied: more-itertools in /Library/Frameworks/Python.framework/Versions/3.11/lib/python3.11/site-packages (from jaraco.classes->keyring>=15.1->twine<4,>=3->python-semantic-release==7.33.2->supabase) (9.1.0)\n",
      "\n",
      "\u001b[1m[\u001b[0m\u001b[34;49mnotice\u001b[0m\u001b[1;39;49m]\u001b[0m\u001b[39;49m A new release of pip is available: \u001b[0m\u001b[31;49m23.0\u001b[0m\u001b[39;49m -> \u001b[0m\u001b[32;49m23.1.2\u001b[0m\n",
      "\u001b[1m[\u001b[0m\u001b[34;49mnotice\u001b[0m\u001b[1;39;49m]\u001b[0m\u001b[39;49m To update, run: \u001b[0m\u001b[32;49mpython3.11 -m pip install --upgrade pip\u001b[0m\n",
      "Note: you may need to restart the kernel to use updated packages.\n"
     ]
    }
   ],
   "source": [
    "%pip install supabase"
   ]
  },
  {
   "cell_type": "code",
   "execution_count": 10,
   "metadata": {},
   "outputs": [],
   "source": [
    "import supabase\n",
    "import os\n",
    "\n",
    "from langchain.embeddings.openai import OpenAIEmbeddings\n",
    "from langchain.text_splitter import CharacterTextSplitter\n",
    "from langchain.text_splitter import RecursiveCharacterTextSplitter\n",
    "from langchain.vectorstores import SupabaseVectorStore\n",
    "from langchain.document_loaders import TextLoader\n",
    "\n",
    "from supabase.client import Client, create_client\n",
    "\n",
    "import json"
   ]
  },
  {
   "cell_type": "code",
   "execution_count": 11,
   "metadata": {},
   "outputs": [],
   "source": [
    "SUPABASE_URL = os.environ['NEXT_PUBLIC_SUPABASE_URL']\n",
    "SUPABASE_KEY = os.environ['NEXT_PUBLIC_SUPABASE_ANON_KEY']\n",
    "supabase_client = supabase.create_client(SUPABASE_URL, SUPABASE_KEY)"
   ]
  },
  {
   "cell_type": "code",
   "execution_count": 12,
   "metadata": {},
   "outputs": [
    {
     "name": "stderr",
     "output_type": "stream",
     "text": [
      "2023-06-04 11:11:43,996:WARNING - Retrying langchain.embeddings.openai.embed_with_retry.<locals>._embed_with_retry in 4.0 seconds as it raised APIConnectionError: Error communicating with OpenAI: ('Connection aborted.', RemoteDisconnected('Remote end closed connection without response')).\n"
     ]
    }
   ],
   "source": [
    "for i in range(2):\n",
    "\n",
    "    filename = f'/Users/vdutts7/Downloads/ee16b/config/transcripts/lecture{i+1}.txt'\n",
    "    with open(filename) as f:\n",
    "        lecture_file = f.read()\n",
    "    \n",
    "    rec_text_splitter = RecursiveCharacterTextSplitter(\n",
    "        chunk_size = 900,\n",
    "        chunk_overlap  = 100,\n",
    "        length_function = len,\n",
    "    )\n",
    "\n",
    "    texts = rec_text_splitter.create_documents([lecture_file])\n",
    "\n",
    "    jsonfilename = f'/Users/vdutts7/Downloads/ee16b/config/jsons/lecture{i+1}.json'\n",
    "    with open(jsonfilename) as f2:\n",
    "        lecture_metadata = json.load(f2)\n",
    "    for text in texts:\n",
    "        text.metadata = lecture_metadata\n",
    "\n",
    "\n",
    "    OPENAI_API_KEY = os.environ['OPENAI_API_KEY']\n",
    "    embeddings = OpenAIEmbeddings(openai_api_key=OPENAI_API_KEY)\n",
    "    \n",
    "    vector_store = SupabaseVectorStore.from_documents(\n",
    "        texts, \n",
    "        embeddings, \n",
    "        client=supabase_client\n",
    "    )"
   ]
  }
 ],
 "metadata": {
  "kernelspec": {
   "display_name": "Python 3",
   "language": "python",
   "name": "python3"
  },
  "language_info": {
   "codemirror_mode": {
    "name": "ipython",
    "version": 3
   },
   "file_extension": ".py",
   "mimetype": "text/x-python",
   "name": "python",
   "nbconvert_exporter": "python",
   "pygments_lexer": "ipython3",
   "version": "3.11.1"
  },
  "orig_nbformat": 4
 },
 "nbformat": 4,
 "nbformat_minor": 2
}
